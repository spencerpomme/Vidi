{
 "cells": [
  {
   "cell_type": "markdown",
   "metadata": {},
   "source": [
    "# Learning and experiment notes on Python Standard Library.\n",
    "## [Section 8.9](https://docs.python.org/3.6/library/types.html)"
   ]
  },
  {
   "cell_type": "markdown",
   "metadata": {},
   "source": [
    "This module defines utility function to assist in dynamic creation of new types.\n",
    "\n",
    "It also defines names for some object types that are used by the standard Python interpreter, but not exposed as builtins like int or str are.\n",
    "\n",
    "Finally, it provides some additional type-related utility classes and functions that are not fundamental enough to be builtins."
   ]
  },
  {
   "cell_type": "markdown",
   "metadata": {},
   "source": [
    "## 8.9.1. Dynamic Type Creation"
   ]
  },
  {
   "cell_type": "markdown",
   "metadata": {},
   "source": [
    "### (1) Intro\n",
    "There are two functions, types.**new_class** and types.**prepare_class**:\n",
    "\n",
    "`types.new_class(name, bases=(), kwds=None, exec_body=None)`\n",
    "\n",
    "`types.prepare_class(name, bases=(), kwds=None)`\n",
    "\n",
    "Lets's see how to use them"
   ]
  },
  {
   "cell_type": "code",
   "execution_count": 1,
   "metadata": {},
   "outputs": [],
   "source": [
    "import types"
   ]
  },
  {
   "cell_type": "code",
   "execution_count": 2,
   "metadata": {},
   "outputs": [],
   "source": [
    "a = types.new_class(\"programmer\")"
   ]
  },
  {
   "cell_type": "code",
   "execution_count": 3,
   "metadata": {},
   "outputs": [
    {
     "data": {
      "text/plain": [
       "type"
      ]
     },
     "execution_count": 3,
     "metadata": {},
     "output_type": "execute_result"
    }
   ],
   "source": [
    "type(a)"
   ]
  },
  {
   "cell_type": "code",
   "execution_count": 4,
   "metadata": {},
   "outputs": [],
   "source": [
    "jack = a()"
   ]
  },
  {
   "cell_type": "code",
   "execution_count": 5,
   "metadata": {},
   "outputs": [
    {
     "data": {
      "text/plain": [
       "types.programmer"
      ]
     },
     "execution_count": 5,
     "metadata": {},
     "output_type": "execute_result"
    }
   ],
   "source": [
    "type(jack)"
   ]
  },
  {
   "cell_type": "markdown",
   "metadata": {},
   "source": [
    "We can see that `a` is a type, and `jack` is a `types.programmer` object."
   ]
  },
  {
   "cell_type": "code",
   "execution_count": 6,
   "metadata": {},
   "outputs": [
    {
     "data": {
      "text/plain": [
       "list"
      ]
     },
     "execution_count": 6,
     "metadata": {},
     "output_type": "execute_result"
    }
   ],
   "source": [
    "type([])"
   ]
  },
  {
   "cell_type": "code",
   "execution_count": 7,
   "metadata": {},
   "outputs": [
    {
     "data": {
      "text/plain": [
       "type"
      ]
     },
     "execution_count": 7,
     "metadata": {},
     "output_type": "execute_result"
    }
   ],
   "source": [
    "type(list)"
   ]
  },
  {
   "cell_type": "markdown",
   "metadata": {},
   "source": [
    "Similarly, `[]` is of built-in type `list`, whilst `list` is an instance of `type`.\n",
    "\n",
    "__In fact, classes are instance of type, and metaclass is a subclass of type.__"
   ]
  },
  {
   "cell_type": "markdown",
   "metadata": {},
   "source": [
    "### (2) Create class dynamically\n",
    "Let's see what's the difference between `types.new_class` and the built-in `type`:"
   ]
  },
  {
   "cell_type": "code",
   "execution_count": 8,
   "metadata": {},
   "outputs": [],
   "source": [
    "# Using type\n",
    "programmer = type(\"Programmer\",\n",
    "                  (),\n",
    "                  {\"age\": 20,\n",
    "                   \"name\": \"Jack\",\n",
    "                   \"sayhi\": (lambda self: \"Hi, I'm {}, {} years old.\".format(self.name, self.age))\n",
    "                  })"
   ]
  },
  {
   "cell_type": "code",
   "execution_count": 9,
   "metadata": {},
   "outputs": [
    {
     "data": {
      "text/plain": [
       "__main__.Programmer"
      ]
     },
     "execution_count": 9,
     "metadata": {},
     "output_type": "execute_result"
    }
   ],
   "source": [
    "programmer"
   ]
  },
  {
   "cell_type": "code",
   "execution_count": 10,
   "metadata": {},
   "outputs": [
    {
     "data": {
      "text/plain": [
       "type"
      ]
     },
     "execution_count": 10,
     "metadata": {},
     "output_type": "execute_result"
    }
   ],
   "source": [
    "type(programmer)"
   ]
  },
  {
   "cell_type": "code",
   "execution_count": 11,
   "metadata": {},
   "outputs": [],
   "source": [
    "jack = programmer()"
   ]
  },
  {
   "cell_type": "code",
   "execution_count": 12,
   "metadata": {},
   "outputs": [
    {
     "data": {
      "text/plain": [
       "__main__.Programmer"
      ]
     },
     "execution_count": 12,
     "metadata": {},
     "output_type": "execute_result"
    }
   ],
   "source": [
    "type(jack)"
   ]
  },
  {
   "cell_type": "code",
   "execution_count": 13,
   "metadata": {},
   "outputs": [
    {
     "data": {
      "text/plain": [
       "\"Hi, I'm Jack, 20 years old.\""
      ]
     },
     "execution_count": 13,
     "metadata": {},
     "output_type": "execute_result"
    }
   ],
   "source": [
    "jack.sayhi()"
   ]
  },
  {
   "cell_type": "markdown",
   "metadata": {},
   "source": [
    "**Now, you may ask, how can we achieve the same functionality using `types.new_class` ?\"**\n",
    "\n",
    "Firstly, a metaclass should be defined:"
   ]
  },
  {
   "cell_type": "code",
   "execution_count": 14,
   "metadata": {},
   "outputs": [],
   "source": [
    "class MetaCoder(type):\n",
    "    def __new__(meta, classname, superclasses, attributedict):\n",
    "        return type.__new__(meta, \"Coder\",\n",
    "                            (),\n",
    "                            {\"age\": 26,\n",
    "                             \"name\": \"William\",\n",
    "                             \"sayhi\": (lambda self: \"Hi, I'm {}, {} years old.\".format(self.name, self.age))\n",
    "                            })"
   ]
  },
  {
   "cell_type": "markdown",
   "metadata": {},
   "source": [
    "In the above code, our metaclass just reused `type.__new__` method with **hard coded** parameters. Now, let's use `types.new_class` to create a new class:"
   ]
  },
  {
   "cell_type": "code",
   "execution_count": 15,
   "metadata": {},
   "outputs": [],
   "source": [
    "coder = types.new_class(\"Coder\", (), {\"metaclass\": MetaCoder})"
   ]
  },
  {
   "cell_type": "code",
   "execution_count": 16,
   "metadata": {},
   "outputs": [
    {
     "data": {
      "text/plain": [
       "__main__.MetaCoder"
      ]
     },
     "execution_count": 16,
     "metadata": {},
     "output_type": "execute_result"
    }
   ],
   "source": [
    "type(coder)"
   ]
  },
  {
   "cell_type": "code",
   "execution_count": 17,
   "metadata": {},
   "outputs": [],
   "source": [
    "will = coder()"
   ]
  },
  {
   "cell_type": "code",
   "execution_count": 18,
   "metadata": {},
   "outputs": [
    {
     "data": {
      "text/plain": [
       "__main__.Coder"
      ]
     },
     "execution_count": 18,
     "metadata": {},
     "output_type": "execute_result"
    }
   ],
   "source": [
    "type(will)"
   ]
  },
  {
   "cell_type": "code",
   "execution_count": 19,
   "metadata": {},
   "outputs": [
    {
     "data": {
      "text/plain": [
       "\"Hi, I'm William, 26 years old.\""
      ]
     },
     "execution_count": 19,
     "metadata": {},
     "output_type": "execute_result"
    }
   ],
   "source": [
    "will.sayhi()"
   ]
  },
  {
   "cell_type": "markdown",
   "metadata": {},
   "source": [
    "Knowing the difference between the built-in `type` and `types.new_class`, one normally might ask 'Why bother using the `types.new_class` if we can directly use `type` and bypassing all the metaclass stuff? \n",
    "\n",
    "Before dispelling this doubt, one more little detail must be explicated.\n",
    "\n",
    "### (3) How the two methods work?\n",
    "\n",
    "For now, we only showed some examples of `types.new_class`, but what about `types.prepare_class`?"
   ]
  },
  {
   "cell_type": "code",
   "execution_count": 20,
   "metadata": {},
   "outputs": [
    {
     "data": {
      "text/plain": [
       "(__main__.MetaCoder, {}, {})"
      ]
     },
     "execution_count": 20,
     "metadata": {},
     "output_type": "execute_result"
    }
   ],
   "source": [
    "types.prepare_class(\"Coder\", (), {\"metaclass\": MetaCoder})"
   ]
  },
  {
   "cell_type": "markdown",
   "metadata": {},
   "source": [
    "The definition of `types.prepare_class` is as follows:\n",
    ">Calculates the appropriate metaclass and creates the class namespace.\n",
    "\n",
    ">The arguments are the components that make up a class definition header: the class name, the base classes (in order) and the keyword arguments (such as metaclass).\n",
    "\n",
    ">The return value is a 3-tuple: metaclass, namespace, kwds\n",
    "\n",
    ">metaclass is the appropriate metaclass, namespace is the prepared class namespace and kwds is an updated copy of the passed in kwds argument with any 'metaclass' entry removed. If no kwds argument is passed in, this will be an empty dict.\n",
    "\n",
    "In Out[21] the metaclass is no suprising. Why are namespace and kwds empty?"
   ]
  },
  {
   "cell_type": "code",
   "execution_count": 21,
   "metadata": {},
   "outputs": [
    {
     "data": {
      "text/plain": [
       "(__main__.MetaCoder, {}, {'test_attr': True})"
      ]
     },
     "execution_count": 21,
     "metadata": {},
     "output_type": "execute_result"
    }
   ],
   "source": [
    "types.prepare_class(\"Coder\", (), {\"metaclass\": MetaCoder, \"test_attr\": True})"
   ]
  },
  {
   "cell_type": "markdown",
   "metadata": {},
   "source": [
    "Now we can pass additional class attribute, but namespace is still empty.\n",
    "\n",
    "If you look at the [Lib/types.py](https://github.com/python/cpython/blob/3.3/Lib/types.py) source code, you will see that the `types.prepare_class` is called inside `types.new_class`. Unfortunately, here is how deep I can go into insofar. **I'm not sure what happend between line 80 and 84. **\n",
    "\n",
    "Nevertheless, we can now draw a conclusion that `types.new_class` can be used to create new class dynamically with a metaclass defined.\n",
    "\n",
    "\n",
    "## 8.9.2. Standard Interpreter Types\n",
    "\n",
    "This sub-section listed some types in `types` module:\n",
    ">This module provides names for many of the types that are required to implement a Python interpreter. It deliberately avoids including some of the types that arise only incidentally during processing such as the listiterator type.\n",
    "\n",
    "Anyway, they seem not playable at the point I'm writing this note."
   ]
  },
  {
   "cell_type": "markdown",
   "metadata": {},
   "source": [
    "## -> More examples\n",
    "\n",
    "For now, the examples given are far too simple. Some realistic scenarios should help.\n",
    "\n",
    "### Case 1: "
   ]
  },
  {
   "cell_type": "code",
   "execution_count": null,
   "metadata": {},
   "outputs": [],
   "source": []
  }
 ],
 "metadata": {
  "kernelspec": {
   "display_name": "Python 3",
   "language": "python",
   "name": "python3"
  },
  "language_info": {
   "codemirror_mode": {
    "name": "ipython",
    "version": 3
   },
   "file_extension": ".py",
   "mimetype": "text/x-python",
   "name": "python",
   "nbconvert_exporter": "python",
   "pygments_lexer": "ipython3",
   "version": "3.6.5"
  }
 },
 "nbformat": 4,
 "nbformat_minor": 2
}
